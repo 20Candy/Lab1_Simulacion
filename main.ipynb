{
 "cells": [
  {
   "cell_type": "markdown",
   "metadata": {},
   "source": [
    "## Laboratorio 1 - Modelación y Simulación\n",
    "Roberto Vallecillos\n",
    "Carol Arevalo"
   ]
  },
  {
   "cell_type": "code",
   "execution_count": 2,
   "metadata": {},
   "outputs": [],
   "source": [
    "import numpy as np\n",
    "import matplotlib.pyplot as plt"
   ]
  },
  {
   "cell_type": "markdown",
   "metadata": {},
   "source": [
    "##### Ejercicio 1\n",
    "Genere una muestra aleatoria de 1000 puntos de datos de una distribución normal con media 0 y desviación\n",
    "estándar 1.\n",
    "Tasks:\n",
    "1. Calcule e imprima la media, la varianza y la asimetría de la muestra.\n",
    "2. Trace un histograma de los datos y observe su forma.\n",
    "3. ¿Qué le dicen estas estadísticas sobre la tendencia central, la dispersión y la forma de los datos?"
   ]
  },
  {
   "cell_type": "code",
   "execution_count": 3,
   "metadata": {},
   "outputs": [
    {
     "data": {
      "image/png": "[encoded data removed]",
      "text/plain": [
       "<Figure size 640x480 with 1 Axes>"
      ]
     },
     "metadata": {},
     "output_type": "display_data"
    }
   ],
   "source": [
    "# muestra aletoria de 1000 putnos de la distribucion normal con media 0 y desviacion estandar 1\n",
    "\n",
    "valores = np.random.normal(0, 1, 1000)\n",
    "plt.hist(valores, 100)\n",
    "plt.show()"
   ]
  },
  {
   "cell_type": "markdown",
   "metadata": {},
   "source": [
    "##### Ejercicio 2\n",
    "Genere una muestra aleatoria de 1000 puntos de datos a partir de una distribución exponencial con parámetro de tasa 0.5.\n",
    "Tasks:\n",
    "1. Trace la función de densidad de probabilidad (PDF) y la función de distribución acumulativa (CDF) de los\n",
    "datos.\n",
    "2. Calcule e imprima las probabilidades para intervalos específicos utilizando la CDF. (por lo menos 2 intervalos a su elección)\n",
    "3. ¿Qué información puede obtener de la forma del PDF y el comportamiento de la CDF?\n"
   ]
  },
  {
   "cell_type": "code",
   "execution_count": 4,
   "metadata": {},
   "outputs": [
    {
     "name": "stdout",
     "output_type": "stream",
     "text": [
      "Probabilidad de que un valor sea menor que 2:  0.984\n",
      "Probabilidad de que un valor sea mayor que 2:  0.016\n"
     ]
    }
   ],
   "source": [
    "#Genere una muestra aleatoria de 1000 puntos de datos a partir de una distribución exponencial con parámetro de tasa 0.5.\n",
    "muestra = np.random.exponential(0.5, 1000)\n",
    "\n",
    "#2. Calcule e imprima las probabilidades para intervalos específicos utilizando la CDF. (por lo menos 2 intervalos a su elección)\n",
    "#Probabilidad de que un valor sea menor que 2\n",
    "print(\"Probabilidad de que un valor sea menor que 2: \", np.sum(muestra < 2)/len(muestra))\n",
    "\n",
    "#Probabilidad de que un valor sea mayor que 2\n",
    "print(\"Probabilidad de que un valor sea mayor que 2: \", np.sum(muestra > 2)/len(muestra))\n"
   ]
  },
  {
   "cell_type": "markdown",
   "metadata": {},
   "source": [
    "##### Ejercicio 3\n",
    "\n",
    "Genere una muestra aleatoria de 1000 puntos de datos a partir de una distribución beta con parámetros de forma(2, 2).\n",
    "Tasks:\n",
    "1. Calcule e imprima el sesgo y la curtosis de la muestra.\n",
    "2. Analice las implicaciones del sesgo y la curtosis en la forma y las características de la distribución.\n"
   ]
  },
  {
   "cell_type": "code",
   "execution_count": 5,
   "metadata": {},
   "outputs": [
    {
     "name": "stdout",
     "output_type": "stream",
     "text": [
      "Sesgo:  0.504114844688693\n",
      "Curtosis:  0.22148402378924495\n"
     ]
    }
   ],
   "source": [
    "#Genere una muestra aleatoria de 1000 puntos de datos a partir de una distribución beta con parámetros de forma(2, 2).\n",
    "muestra = np.random.beta(2, 2, 1000)\n",
    "\n",
    "#Calcule e imprima el sesgo y la curtosis de la muestra.\n",
    "print(\"Sesgo: \", np.mean(muestra))\n",
    "print(\"Curtosis: \", np.std(muestra))\n",
    "\n"
   ]
  },
  {
   "cell_type": "markdown",
   "metadata": {},
   "source": [
    "##### Ejercicio 4\n",
    "Genere una muestra aleatoria de 1000 puntos de datos a partir de una distribución de Poisson con parámetro lambda 5.\n",
    "Tasks:\n",
    "1. Trace un histograma de los datos generados.\n",
    "2. Calcule e imprima la media y la varianza de la muestra.\n",
    "3. ¿Puedes observar algún patrón o tendencia en los datos generados a partir de la distribución de Poisson?\n"
   ]
  },
  {
   "cell_type": "code",
   "execution_count": 6,
   "metadata": {},
   "outputs": [
    {
     "name": "stdout",
     "output_type": "stream",
     "text": [
      "Media:  5.032\n",
      "Varianza:  5.4449760000000005\n"
     ]
    },
    {
     "data": {
      "image/png": "[encoded data removed]",
      "text/plain": [
       "<Figure size 640x480 with 1 Axes>"
      ]
     },
     "metadata": {},
     "output_type": "display_data"
    }
   ],
   "source": [
    "#Genere una muestra aleatoria de 1000 puntos de datos a partir de una distribución de Poisson con parámetro lambda 5.\n",
    "muestra = np.random.poisson(5, 1000)\n",
    "\n",
    "#Trace un histograma de los datos generados.\n",
    "plt.hist(muestra, 100)\n",
    "\n",
    "\n",
    "# Calcule e imprima la media y la varianza de la muestra.\n",
    "print(\"Media: \", np.mean(muestra))\n",
    "print(\"Varianza: \", np.var(muestra))"
   ]
  }
 ],
 "metadata": {
  "kernelspec": {
   "display_name": "Python 3",
   "language": "python",
   "name": "python3"
  },
  "language_info": {
   "codemirror_mode": {
    "name": "ipython",
    "version": 3
   },
   "file_extension": ".py",
   "mimetype": "text/x-python",
   "name": "python",
   "nbconvert_exporter": "python",
   "pygments_lexer": "ipython3",
   "version": "3.11.4"
  },
  "orig_nbformat": 4
 },
 "nbformat": 4,
 "nbformat_minor": 2
}
